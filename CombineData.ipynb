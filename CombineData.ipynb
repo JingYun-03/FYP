{
 "cells": [
  {
   "cell_type": "code",
   "execution_count": 5,
   "id": "d88c1977",
   "metadata": {},
   "outputs": [
    {
     "name": "stdout",
     "output_type": "stream",
     "text": [
      "Files combined successfully into combined_youtube.csv\n"
     ]
    }
   ],
   "source": [
    "import pandas as pd\n",
    "\n",
    "# --- Step 1: Read your CSV files ---\n",
    "file1 = \"youtube_videos_1.csv\"\n",
    "file2 = \"youtube_videos_2.csv\"\n",
    "file3 = \"youtube_videos_3.csv\"\n",
    "file4 = \"youtube_videos_4.csv\"\n",
    "file5 = \"youtube_videos_5.csv\"\n",
    "file6 = \"youtube_videos_6.csv\"\n",
    "file7 = \"youtube_videos_7.csv\"\n",
    "file8 = \"youtube_videos_8.csv\"\n",
    "file9 = \"youtube_videos_9.csv\"\n",
    "file10 = \"youtube_videos_10.csv\"\n",
    "file11 = \"youtube_videos_11.csv\"\n",
    "file12 = \"youtube_videos_12.csv\"\n",
    "\n",
    "df1 = pd.read_csv(file1)\n",
    "df2 = pd.read_csv(file2)\n",
    "df3 = pd.read_csv(file3)\n",
    "df4 = pd.read_csv(file4)\n",
    "df5 = pd.read_csv(file5)\n",
    "df6 = pd.read_csv(file6)\n",
    "df7 = pd.read_csv(file7)\n",
    "df8 = pd.read_csv(file8)\n",
    "df9 = pd.read_csv(file9)\n",
    "df10 = pd.read_csv(file10)  \n",
    "df11 = pd.read_csv(file11)\n",
    "df12 = pd.read_csv(file12)\n",
    "\n",
    "# --- Step 2: Concatenate them into one DataFrame ---\n",
    "combined_df = pd.concat([df1, df2, df3, df4, df5, df6, df7, df8, df9, df10, df11, d12], ignore_index=True)\n",
    "\n",
    "# --- Step 3: Save the combined DataFrame into a new CSV file ---\n",
    "combined_df.to_csv(\"combined_youtube.csv\", index=False)\n",
    "\n",
    "print(\"Files combined successfully into combined_youtube.csv\")\n"
   ]
  },
  {
   "cell_type": "code",
   "execution_count": 6,
   "id": "7f09ba18",
   "metadata": {},
   "outputs": [
    {
     "name": "stdout",
     "output_type": "stream",
     "text": [
      "Files combined successfully into combined_engagement.csv\n"
     ]
    }
   ],
   "source": [
    "# --- Step 1: Read your CSV files ---\n",
    "fil1 = \"engagement_snapshots_1.csv\"\n",
    "fil2 = \"engagement_snapshots_2.csv\"\n",
    "fil3 = \"engagement_snapshots_3.csv\"\n",
    "fil4 = \"engagement_snapshots_4.csv\"\n",
    "fil5 = \"engagement_snapshots_5.csv\"\n",
    "fil6 = \"engagement_snapshots_6.csv\"\n",
    "fil7 = \"engagement_snapshots_7.csv\"\n",
    "fil8 = \"engagement_snapshots_8.csv\"\n",
    "fil9 = \"engagement_snapshots_9.csv\"\n",
    "fil10 = \"engagement_snapshots_10.csv\"\n",
    "fil11 = \"engagement_snapshots_11.csv\"\n",
    "fil12 = \"engagement_snapshots_12.csv\"\n",
    "\n",
    "d1 = pd.read_csv(fil1)\n",
    "d2 = pd.read_csv(fil2)\n",
    "d3 = pd.read_csv(fil3)\n",
    "d4 = pd.read_csv(fil4)\n",
    "d5 = pd.read_csv(fil5)\n",
    "d6 = pd.read_csv(fil6)\n",
    "d7 = pd.read_csv(fil7)\n",
    "d8 = pd.read_csv(fil8)\n",
    "d9 = pd.read_csv(fil9)\n",
    "d10 = pd.read_csv(fil10)  \n",
    "d11 = pd.read_csv(fil11)\n",
    "d12 = pd.read_csv(fil12)\n",
    "\n",
    "# --- Step 2: Concatenate them into one DataFrame ---\n",
    "combined_df = pd.concat([d1, d2, d3, d4, d5, d6, d7, d8, d9, d10, d11, d12], ignore_index=True)\n",
    "\n",
    "# --- Step 3: Save the combined DataFrame into a new CSV file ---\n",
    "combined_df.to_csv(\"combined_engagement.csv\", index=False)\n",
    "\n",
    "print(\"Files combined successfully into combined_engagement.csv\")\n"
   ]
  },
  {
   "cell_type": "code",
   "execution_count": null,
   "id": "689091f3",
   "metadata": {},
   "outputs": [],
   "source": []
  }
 ],
 "metadata": {
  "kernelspec": {
   "display_name": "Python 3 (ipykernel)",
   "language": "python",
   "name": "python3"
  },
  "language_info": {
   "codemirror_mode": {
    "name": "ipython",
    "version": 3
   },
   "file_extension": ".py",
   "mimetype": "text/x-python",
   "name": "python",
   "nbconvert_exporter": "python",
   "pygments_lexer": "ipython3",
   "version": "3.11.5"
  }
 },
 "nbformat": 4,
 "nbformat_minor": 5
}
